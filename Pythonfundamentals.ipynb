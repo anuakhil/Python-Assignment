{
 "cells": [
  {
   "cell_type": "code",
   "execution_count": 1,
   "id": "f7f61591-18c5-434b-9cc1-4ffa53800bf2",
   "metadata": {},
   "outputs": [
    {
     "name": "stdout",
     "output_type": "stream",
     "text": [
      "Name       = Aneesha P Sasi\n",
      "Student no = DSML 14\n",
      "Mail id    = anu.aneeshasasi@gmail.com\n"
     ]
    }
   ],
   "source": [
    "#Exercise 1 \n",
    "\n",
    "print(\"Name       = Aneesha P Sasi\")\n",
    "print(\"Student no = DSML 14\")\n",
    "print(\"Mail id    = anu.aneeshasasi@gmail.com\")\n"
   ]
  },
  {
   "cell_type": "code",
   "execution_count": 3,
   "id": "748c3fb5-59d0-4010-b548-d25b57dcd06b",
   "metadata": {},
   "outputs": [
    {
     "name": "stdout",
     "output_type": "stream",
     "text": [
      " Name :- Aneesha\n",
      " Student id:-DSML B2 05\n",
      " Email id :- anu.aneeshasasi@gmail.com\n"
     ]
    }
   ],
   "source": [
    "#Exercise 2 \n",
    "\n",
    "print(\" Name :- Aneesha\\n Student id:-DSML B2 05\\n Email id :- anu.aneeshasasi@gmail.com\")\n"
   ]
  },
  {
   "cell_type": "code",
   "execution_count": 7,
   "id": "cecc6971-bf5a-4f88-80d9-cc947abb375a",
   "metadata": {},
   "outputs": [
    {
     "name": "stdout",
     "output_type": "stream",
     "text": [
      "14+7= 21\n",
      "14*7= 98\n",
      "14-7= 7\n",
      "14/7= 2.0\n"
     ]
    }
   ],
   "source": [
    "#Exercise 3 \n",
    "\n",
    "print(\"14+7=\",14+7) \n",
    "\n",
    "print(\"14*7=\",14*7)\n",
    "\n",
    "print(\"14-7=\",14-7 )\n",
    "\n",
    "print(\"14/7=\",14/7)\n"
   ]
  },
  {
   "cell_type": "code",
   "execution_count": 9,
   "id": "74d655b0-3d3a-47d5-adaf-872f84d2b15e",
   "metadata": {},
   "outputs": [
    {
     "name": "stdout",
     "output_type": "stream",
     "text": [
      "1\n",
      "2\n",
      "3\n",
      "4\n",
      "5\n",
      "\n"
     ]
    }
   ],
   "source": [
    "#Exercise 4\n",
    "\n",
    "print(\"1\\n2\\n3\\n4\\n5\\n\")\n"
   ]
  },
  {
   "cell_type": "code",
   "execution_count": 13,
   "id": "d6c7f13e-3dc6-44b3-8deb-4b97c4f7bb2d",
   "metadata": {},
   "outputs": [
    {
     "name": "stdout",
     "output_type": "stream",
     "text": [
      " \"SDK\" stands for \"Software Development kit\",whereas\n",
      " \"IDE\" Stands for \"Integrated Development Environment\".\n"
     ]
    }
   ],
   "source": [
    "#Exercise 5\n",
    "\n",
    "print(' \"SDK\" stands for \"Software Development kit\",whereas\\n'\n",
    "      ' \"IDE\" Stands for \"Integrated Development Environment\".')\n"
   ]
  },
  {
   "cell_type": "code",
   "execution_count": 15,
   "id": "5b4b55ed-ea8a-45ef-b552-bae886f3e540",
   "metadata": {},
   "outputs": [
    {
     "name": "stdout",
     "output_type": "stream",
     "text": [
      "python is an \"awesome\" language.\n",
      "python\n",
      "\t2023\n",
      "I'm from Entri\n",
      "5\n",
      "e\n",
      "Entri\n",
      "2023\n",
      "Entr2023\n",
      "Entri*20"
     ]
    }
   ],
   "source": [
    "#Exercise 6\n",
    "\n",
    "print(\"python is an \\\"awesome\\\" language.\")\n",
    "print(\"python\\n\\t2023\")\n",
    "print('I\\'m from Entri.\\b')\n",
    "print(\"\\65\")\n",
    "print(\"\\x65\")\n",
    "print(\"Entri\", \"2023\", sep=\"\\n\")\n",
    "print(\"Entri\", \"2023\", sep=\"\\b\")\n",
    "print(\"Entri\", \"2023\", sep=\"*\", end=\"\\b\\b\\b\\b\")\n"
   ]
  },
  {
   "cell_type": "code",
   "execution_count": 28,
   "id": "25178715-b2f3-4624-baf7-8aa8887f867d",
   "metadata": {
    "scrolled": true
   },
   "outputs": [
    {
     "name": "stdout",
     "output_type": "stream",
     "text": [
      "<class 'int'>\n",
      "<class 'str'>\n",
      "<class 'float'>\n",
      "176.3\n",
      "<class 'float'>\n"
     ]
    }
   ],
   "source": [
    "#Exercise 7\n",
    "\n",
    "num = 21\n",
    "textnum = \"57\"\n",
    "decimal = 98.3\n",
    "\n",
    "# Print the types of each variable\n",
    "print(type(num)) \n",
    "print(type(textnum))  \n",
    "print(type(decimal))  \n",
    "\n",
    "# Print the sum and its type\n",
    "print(sum_result)  \n",
    "print(type(sum_result)) \n"
   ]
  },
  {
   "cell_type": "code",
   "execution_count": 1,
   "id": "099d6d41-de43-47bf-8471-ec02c967dd04",
   "metadata": {},
   "outputs": [
    {
     "name": "stdout",
     "output_type": "stream",
     "text": [
      "the total number of minutes in a year is 525600.\n"
     ]
    }
   ],
   "source": [
    "#Exercise 8\n",
    "\n",
    "days_in_year = 365  \n",
    "hours_in_day = 24   \n",
    "minutes_in_hour = 60 \n",
    "\n",
    "total_minutes_in_year = days_in_year * hours_in_day * minutes_in_hour\n",
    "print(f\"the total number of minutes in a year is {total_minutes_in_year}.\")"
   ]
  },
  {
   "cell_type": "code",
   "execution_count": 38,
   "id": "1953e3f8-a808-44a9-b6a1-e5c0b67ea952",
   "metadata": {},
   "outputs": [
    {
     "name": "stdin",
     "output_type": "stream",
     "text": [
      "Please enter your Name : Anu\n"
     ]
    },
    {
     "name": "stdout",
     "output_type": "stream",
     "text": [
      "Hi Anu , Welcome to python programming :) .\n"
     ]
    }
   ],
   "source": [
    "#Exercise 9\n",
    "\n",
    "Name=input(\"Please enter your Name :\")\n",
    "print(\"Hi\", Name, \", Welcome to python programming :) .\")\n"
   ]
  },
  {
   "cell_type": "code",
   "execution_count": 1,
   "id": "884ead59-149a-4f31-a542-7cb3079e407e",
   "metadata": {},
   "outputs": [
    {
     "name": "stdin",
     "output_type": "stream",
     "text": [
      "Please enter the amount in pounds: 100\n"
     ]
    },
    {
     "name": "stdout",
     "output_type": "stream",
     "text": [
      "£100.0 are $127.0\n"
     ]
    }
   ],
   "source": [
    "#Exercise 10\n",
    "\n",
    "Exchange_Rate = 1.27\n",
    "pounds = float(input(\"Please enter the amount in pounds:\"))\n",
    "dollars = pounds * Exchange_Rate\n",
    "print(f\"£{pounds} are ${dollars}\")\n"
   ]
  }
 ],
 "metadata": {
  "kernelspec": {
   "display_name": "Python [conda env:base] *",
   "language": "python",
   "name": "conda-base-py"
  },
  "language_info": {
   "codemirror_mode": {
    "name": "ipython",
    "version": 3
   },
   "file_extension": ".py",
   "mimetype": "text/x-python",
   "name": "python",
   "nbconvert_exporter": "python",
   "pygments_lexer": "ipython3",
   "version": "3.12.7"
  }
 },
 "nbformat": 4,
 "nbformat_minor": 5
}
