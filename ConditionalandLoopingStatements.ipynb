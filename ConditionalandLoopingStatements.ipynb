{
 "cells": [
  {
   "cell_type": "code",
   "execution_count": 3,
   "id": "c42aea50-0234-4ae2-acfc-b939decf9d79",
   "metadata": {},
   "outputs": [
    {
     "name": "stdin",
     "output_type": "stream",
     "text": [
      "Enter the month:  6\n"
     ]
    },
    {
     "name": "stdout",
     "output_type": "stream",
     "text": [
      "Month 6 is June\n"
     ]
    }
   ],
   "source": [
    "### MonthNames\n",
    "#Exercise 1\n",
    "\n",
    "months = [ \"January\", \"February\", \"March\", \"April\", \"May\", \"June\", \n",
    "    \"July\", \"August\", \"September\", \"October\", \"November\", \"December\"  ]\n",
    "\n",
    "month_number = int(input(\"Enter the month: \"))\n",
    "\n",
    "if 1 <= month_number <= 12:\n",
    "   \n",
    "    print(f\"Month {month_number} is {months[month_number - 1]}\")\n"
   ]
  },
  {
   "cell_type": "code",
   "execution_count": 5,
   "id": "c2093316-66e6-49e8-810f-0eca0f5275fc",
   "metadata": {},
   "outputs": [
    {
     "name": "stdin",
     "output_type": "stream",
     "text": [
      "Enter your age:  32\n"
     ]
    },
    {
     "name": "stdout",
     "output_type": "stream",
     "text": [
      "Your ticket costs £6.00\n"
     ]
    }
   ],
   "source": [
    "### Exercise 2\n",
    "\n",
    "age = int(input(\"Enter your age: \"))\n",
    "\n",
    "\n",
    "if age < 16:\n",
    "    ticket_price = 6 / 2  \n",
    "elif age >= 60:\n",
    "    ticket_price = 6 / 3  \n",
    "else:\n",
    "    ticket_price = 6 \n",
    "    \n",
    "print(f\"Your ticket costs £{ticket_price:.2f}\")\n"
   ]
  },
  {
   "cell_type": "code",
   "execution_count": 7,
   "id": "7b1b7b9f-01b7-4225-903d-7f77f2dc5a88",
   "metadata": {},
   "outputs": [
    {
     "name": "stdin",
     "output_type": "stream",
     "text": [
      "Enter your weight in (kg):  69\n",
      "Enter your height in (m):  163\n"
     ]
    },
    {
     "name": "stdout",
     "output_type": "stream",
     "text": [
      "Your BMI is: 0.00\n",
      "You are in the “underweight” range.\n"
     ]
    }
   ],
   "source": [
    "#Exercise 3\n",
    "\n",
    "weight = float(input(\"Enter your weight in (kg): \"))\n",
    "height = float(input(\"Enter your height in (m): \"))\n",
    "\n",
    "bmi = weight / (height ** 2)\n",
    "print(f\"Your BMI is: {bmi:.2f}\")\n",
    "\n",
    "if bmi < 18.5:\n",
    "    status = \"underweight\"\n",
    "elif 18.5 <= bmi <= 24.9:\n",
    "    status = \"normal\"\n",
    "elif 25 <= bmi <= 29.9:\n",
    "    status = \"overweight\"\n",
    "else:\n",
    "    status = \"obese\"\n",
    "\n",
    "print(f\"You are in the “{status}” range.\")"
   ]
  },
  {
   "cell_type": "code",
   "execution_count": 11,
   "id": "6910ff30-904c-46c3-8b79-0328f20795b6",
   "metadata": {},
   "outputs": [
    {
     "name": "stdin",
     "output_type": "stream",
     "text": [
      "Enter the first number:  12\n",
      "Enter the second number:  32\n",
      "Enter the third number:  78\n"
     ]
    },
    {
     "name": "stdout",
     "output_type": "stream",
     "text": [
      "The greatest number among 12.0, 32.0, and 78.0 is 78.0.\n"
     ]
    }
   ],
   "source": [
    "#Exercise 4\n",
    "\n",
    "num1 = float(input(\"Enter the first number: \"))\n",
    "num2 = float(input(\"Enter the second number: \"))\n",
    "num3 = float(input(\"Enter the third number: \"))\n",
    "\n",
    "greatest = max(num1, num2, num3)\n",
    "\n",
    "print(f\"The greatest number among {num1}, {num2}, and {num3} is {greatest}.\")\n"
   ]
  },
  {
   "cell_type": "code",
   "execution_count": 13,
   "id": "749731a1-4761-4e04-bd10-2d3c76a29f13",
   "metadata": {},
   "outputs": [
    {
     "name": "stdin",
     "output_type": "stream",
     "text": [
      "Enter a number to find its factorial:  8\n"
     ]
    },
    {
     "name": "stdout",
     "output_type": "stream",
     "text": [
      "The factorial of 8 is 40320\n"
     ]
    }
   ],
   "source": [
    "#Exercise 5\n",
    "\n",
    "num = int(input(\"Enter a number to find its factorial: \"))\n",
    "factorial = 1\n",
    "\n",
    "for i in range(1, num + 1):\n",
    "    factorial *= i  # Multiply factorial by the current number\n",
    "\n",
    "print(f\"The factorial of {num} is {factorial}\")"
   ]
  },
  {
   "cell_type": "code",
   "execution_count": 15,
   "id": "5fba64df-e838-4bca-85bd-e494dfcd28bc",
   "metadata": {},
   "outputs": [
    {
     "name": "stdin",
     "output_type": "stream",
     "text": [
      "Enter a number to reverse:  42\n"
     ]
    },
    {
     "name": "stdout",
     "output_type": "stream",
     "text": [
      "Reversed number: 24\n"
     ]
    }
   ],
   "source": [
    "#Exercise 6\n",
    "\n",
    "num = int(input(\"Enter a number to reverse: \"))\n",
    "reversed_num = 0\n",
    "\n",
    "while num > 0:\n",
    "    digit = num % 10\n",
    "    reversed_num = reversed_num * 10 + digit\n",
    "    num = num // 10\n",
    "    \n",
    "print(\"Reversed number:\", reversed_num)"
   ]
  },
  {
   "cell_type": "code",
   "execution_count": 17,
   "id": "b9153133-e62d-43af-b504-c5abe5cdfdbc",
   "metadata": {},
   "outputs": [
    {
     "name": "stdin",
     "output_type": "stream",
     "text": [
      "Enter a number:  25\n",
      "Enter the limit for multiples:  7\n"
     ]
    },
    {
     "name": "stdout",
     "output_type": "stream",
     "text": [
      "The multiples of 25 are:\n",
      "25\n",
      "50\n",
      "75\n",
      "100\n",
      "125\n",
      "150\n",
      "175\n"
     ]
    }
   ],
   "source": [
    "#Exercise 7\n",
    "\n",
    "num = int(input(\"Enter a number: \"))\n",
    "limit = int(input(\"Enter the limit for multiples: \"))\n",
    "\n",
    "print(f\"The multiples of {num} are:\")\n",
    "for i in range(1, limit + 1):\n",
    "    print(num * i)"
   ]
  },
  {
   "cell_type": "code",
   "execution_count": 21,
   "id": "a0e8041c-ed8d-4864-8859-4b343ef0df9d",
   "metadata": {},
   "outputs": [
    {
     "name": "stdin",
     "output_type": "stream",
     "text": [
      "Enter a value:  hello there\n"
     ]
    },
    {
     "name": "stdout",
     "output_type": "stream",
     "text": [
      "hello there\n"
     ]
    },
    {
     "name": "stdin",
     "output_type": "stream",
     "text": [
      "Enter a value:  finished\n"
     ]
    },
    {
     "name": "stdout",
     "output_type": "stream",
     "text": [
      "finished\n"
     ]
    },
    {
     "name": "stdin",
     "output_type": "stream",
     "text": [
      "Enter a value:  done\n"
     ]
    },
    {
     "name": "stdout",
     "output_type": "stream",
     "text": [
      "Done\n"
     ]
    }
   ],
   "source": [
    "#Exercise 8\n",
    "\n",
    "while True:\n",
    "    user_input = input(\"Enter a value: \")\n",
    "    \n",
    "    if user_input.lower() == 'done':\n",
    "        print(\"Done\")\n",
    "        break  \n",
    " \n",
    "    print(user_input)"
   ]
  },
  {
   "cell_type": "markdown",
   "id": "7e92eef8-cde9-4a68-bd95-f2dec86789ea",
   "metadata": {},
   "source": [
    "# Exercise 9\n",
    "\n",
    "for i in range(1, 11):\n",
    "    if i % 3 == 0 and i % 5 == 0:\n",
    "        print(\"FizzBuzz\")\n",
    "        \n",
    "    elif i % 3 == 0:\n",
    "        print(\"Fizz\")\n",
    "   \n",
    "    elif i % 5 == 0:\n",
    "        print(\"Buzz\")\n",
    "    else:\n",
    "        print(i)"
   ]
  },
  {
   "cell_type": "code",
   "execution_count": 24,
   "id": "eafd6888-bb80-463d-a68b-c30cc2d6e5a8",
   "metadata": {},
   "outputs": [
    {
     "name": "stdout",
     "output_type": "stream",
     "text": [
      "5 4 3 2 1 \n",
      "4 3 2 1 \n",
      "3 2 1 \n",
      "2 1 \n",
      "1 \n"
     ]
    }
   ],
   "source": [
    "#Exercise 10\n",
    "\n",
    "for i in range(5, 0, -1):\n",
    "    for j in range(i, 0, -1):\n",
    "        print(j, end=\" \")\n",
    "\n",
    "    print()"
   ]
  },
  {
   "cell_type": "code",
   "execution_count": null,
   "id": "91e4d66f-ff2b-44cd-a938-a8c743a31261",
   "metadata": {},
   "outputs": [],
   "source": [
    "Write a program to print the inputted value as it is and break the loop if the value is 'done'.\n",
    "Example run of the program\n",
    ":hello there\n",
    "hello there\n",
    ":finished\n",
    "finished\n",
    ":done\n",
    "Done\n"
   ]
  }
 ],
 "metadata": {
  "kernelspec": {
   "display_name": "Python [conda env:base] *",
   "language": "python",
   "name": "conda-base-py"
  },
  "language_info": {
   "codemirror_mode": {
    "name": "ipython",
    "version": 3
   },
   "file_extension": ".py",
   "mimetype": "text/x-python",
   "name": "python",
   "nbconvert_exporter": "python",
   "pygments_lexer": "ipython3",
   "version": "3.12.7"
  }
 },
 "nbformat": 4,
 "nbformat_minor": 5
}
