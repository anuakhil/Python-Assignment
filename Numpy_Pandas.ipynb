{
 "cells": [
  {
   "cell_type": "code",
   "execution_count": 4,
   "id": "4373160b-3c69-4976-910f-e1555716099a",
   "metadata": {},
   "outputs": [
    {
     "name": "stdout",
     "output_type": "stream",
     "text": [
      "[[ 1  2  3  4  5]\n",
      " [ 6  7  8  9 10]]\n"
     ]
    }
   ],
   "source": [
    "import numpy as np\n",
    "\n",
    "#Exercise 1\n",
    "# Create a numpy array with numbers from 1 to 10\n",
    "arr = np.arange(1, 11)\n",
    "\n",
    "# Reshape the array to a 2x5 matrix\n",
    "reshaped_arr = arr.reshape(2, 5)\n",
    "\n",
    "print(reshaped_arr)"
   ]
  },
  {
   "cell_type": "code",
   "execution_count": 6,
   "id": "32ef1482-abcf-46e2-8fe0-94b926dbdd77",
   "metadata": {},
   "outputs": [
    {
     "name": "stdout",
     "output_type": "stream",
     "text": [
      "[ 6  7  8  9 10 11 12 13 14 15]\n"
     ]
    }
   ],
   "source": [
    "#Exercise 2\n",
    "\n",
    "# Create a numpy array with numbers from 1 to 20\n",
    "arr = np.arange(1, 21)\n",
    "\n",
    "# Extract the elements between the 5th and 15th index (excluding the 15th index)\n",
    "extracted_elements = arr[5:15]\n",
    "\n",
    "print(extracted_elements)"
   ]
  },
  {
   "cell_type": "code",
   "execution_count": 8,
   "id": "6ef607b4-ba0c-4183-8d24-a8a25d46184e",
   "metadata": {},
   "outputs": [
    {
     "name": "stdout",
     "output_type": "stream",
     "text": [
      "apples     3\n",
      "bananas    2\n",
      "oranges    1\n",
      "pears      4\n",
      "dtype: int64\n"
     ]
    }
   ],
   "source": [
    "#Exercise 3\n",
    "\n",
    "import pandas as pd\n",
    "\n",
    "# Create a Pandas Series with the given data\n",
    "data = {'apples': 3, 'bananas': 2, 'oranges': 1}\n",
    "series = pd.Series(data)\n",
    "\n",
    "# Add a new item with key 'pears' and value 4\n",
    "series['pears'] = 4\n",
    "\n",
    "print(series)"
   ]
  },
  {
   "cell_type": "code",
   "execution_count": 10,
   "id": "1df17c85-0426-4c71-a80a-2fbd5e8411bf",
   "metadata": {},
   "outputs": [
    {
     "name": "stdout",
     "output_type": "stream",
     "text": [
      "       name  age  gender\n",
      "0       Anu   25  Female\n",
      "1      Akhi   30    Male\n",
      "2     Dachu   35  Female\n",
      "3     Akhil   40    Male\n",
      "4    Daksha   22  Female\n",
      "5    Kannan   28    Male\n",
      "6     Kukku   33  Female\n",
      "7  Priyanka   45  Female\n",
      "8    Nethan   50    Male\n",
      "9    Amruth   29    Male\n"
     ]
    }
   ],
   "source": [
    "#Exercise 4\n",
    "\n",
    "import pandas as pd\n",
    "\n",
    "# Create a dictionary with sample data for the dataframe\n",
    "data = {\n",
    "    'name': ['Anu', 'Akhi', 'Dachu', 'Akhil', 'Daksha', 'Kannan', 'Kukku', 'Priyanka', 'Nethan', 'Amruth'],\n",
    "    'age': [25, 30, 35, 40, 22, 28, 33, 45, 50, 29],\n",
    "    'gender': ['Female', 'Male', 'Female', 'Male', 'Female', 'Male', 'Female', 'Female', 'Male', 'Male']\n",
    "}\n",
    "\n",
    "# Create the dataframe\n",
    "df = pd.DataFrame(data)\n",
    "\n",
    "# Display the dataframe\n",
    "print(df)"
   ]
  },
  {
   "cell_type": "code",
   "execution_count": 16,
   "id": "0953ce29-ae41-4684-9d60-87e08e5240c6",
   "metadata": {},
   "outputs": [
    {
     "name": "stdout",
     "output_type": "stream",
     "text": [
      "       name  age  gender  occupation\n",
      "0       Anu   25  Female  Programmer\n",
      "1      Akhi   30    Male     Manager\n",
      "2     Dachu   35  Female     Analyst\n",
      "3     Akhil   40    Male  Programmer\n",
      "4    Daksha   22  Female     Manager\n",
      "5    Kannan   28    Male     Analyst\n",
      "6     Kukku   33  Female  Programmer\n",
      "7  Priyanka   45  Female     Manager\n",
      "8    Nethan   50    Male     Analyst\n",
      "9    Amruth   29    Male  Programmer\n"
     ]
    }
   ],
   "source": [
    "#Exercise 5\n",
    "\n",
    "import pandas as pd\n",
    "\n",
    "# Create the original dataframe (from previous question)\n",
    "data = {\n",
    "   'name': ['Anu', 'Akhi', 'Dachu', 'Akhil', 'Daksha', 'Kannan', 'Kukku', 'Priyanka', 'Nethan', 'Amruth'],\n",
    "    'age': [25, 30, 35, 40, 22, 28, 33, 45, 50, 29],\n",
    "    'gender': ['Female', 'Male', 'Female', 'Male', 'Female', 'Male', 'Female', 'Female', 'Male', 'Male']  \n",
    "}\n",
    "\n",
    "df = pd.DataFrame(data)\n",
    "\n",
    "# Add the new 'occupation' column with corresponding values\n",
    "df['occupation'] = ['Programmer', 'Manager', 'Analyst', 'Programmer', 'Manager', \n",
    "                     'Analyst', 'Programmer', 'Manager', 'Analyst', 'Programmer']\n",
    "\n",
    "# Display the updated dataframe\n",
    "print(df)\n"
   ]
  },
  {
   "cell_type": "code",
   "execution_count": 20,
   "id": "99ad684e-b93c-46e6-a8bb-664dd2ef59a9",
   "metadata": {},
   "outputs": [
    {
     "name": "stdout",
     "output_type": "stream",
     "text": [
      "       name  age  gender  occupation\n",
      "1      Akhi   30    Male     Manager\n",
      "2     Dachu   35  Female     Analyst\n",
      "3     Akhil   40    Male  Programmer\n",
      "6     Kukku   33  Female  Programmer\n",
      "7  Priyanka   45  Female     Manager\n",
      "8    Nethan   50    Male     Analyst\n"
     ]
    }
   ],
   "source": [
    "#Exercise 6\n",
    "\n",
    "# Select rows where age is greater than or equal to 30\n",
    "df_age_30 = df[df['age'] >= 30]\n",
    "print(df_age_30)"
   ]
  },
  {
   "cell_type": "code",
   "execution_count": 22,
   "id": "4c0108d6-ddd1-444c-bac4-45a949332e46",
   "metadata": {},
   "outputs": [
    {
     "name": "stdout",
     "output_type": "stream",
     "text": [
      "       name  age  gender  occupation\n",
      "0       Anu   25  Female  Programmer\n",
      "1      Akhi   30    Male     Manager\n",
      "2     Dachu   35  Female     Analyst\n",
      "3     Akhil   40    Male  Programmer\n",
      "4    Daksha   22  Female     Manager\n",
      "5    Kannan   28    Male     Analyst\n",
      "6     Kukku   33  Female  Programmer\n",
      "7  Priyanka   45  Female     Manager\n",
      "8    Nethan   50    Male     Analyst\n",
      "9    Amruth   29    Male  Programmer\n"
     ]
    }
   ],
   "source": [
    "#Exercise 7\n",
    "\n",
    "# Convert the DataFrame to a CSV file\n",
    "df.to_csv('data.csv', index=False)\n",
    "\n",
    "# Read the CSV file back\n",
    "df_from_csv = pd.read_csv('data.csv')\n",
    "print(df_from_csv)"
   ]
  },
  {
   "cell_type": "code",
   "execution_count": null,
   "id": "8dab120f-50f7-4542-b60e-786728bbe2ff",
   "metadata": {},
   "outputs": [],
   "source": []
  }
 ],
 "metadata": {
  "kernelspec": {
   "display_name": "Python [conda env:base] *",
   "language": "python",
   "name": "conda-base-py"
  },
  "language_info": {
   "codemirror_mode": {
    "name": "ipython",
    "version": 3
   },
   "file_extension": ".py",
   "mimetype": "text/x-python",
   "name": "python",
   "nbconvert_exporter": "python",
   "pygments_lexer": "ipython3",
   "version": "3.12.7"
  }
 },
 "nbformat": 4,
 "nbformat_minor": 5
}
