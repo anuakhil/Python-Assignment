{
 "cells": [
  {
   "cell_type": "code",
   "execution_count": 3,
   "id": "c613dd61-707a-4e07-b2ba-d72b8793310b",
   "metadata": {},
   "outputs": [
    {
     "name": "stdout",
     "output_type": "stream",
     "text": [
      "Course Code: CS101, Name: Introduction to Computer Science, Credit Hours: 3, Required for Major: True\n",
      "Course Code: HIST101, Name: Introduction to History, Credit Hours: 3, Elective Type: liberal arts\n"
     ]
    }
   ],
   "source": [
    " #Exercise 1\n",
    "\n",
    "# Base class: Course\n",
    "class Course:\n",
    "    def __init__(self, course_code, course_name, credit_hours):\n",
    "        self.course_code = course_code\n",
    "        self.course_name = course_name\n",
    "        self.credit_hours = credit_hours\n",
    "\n",
    "    def __str__(self):\n",
    "        return f\"Course Code: {self.course_code}, Name: {self.course_name}, Credit Hours: {self.credit_hours}\"\n",
    "\n",
    "# Subclass: CoreCourse\n",
    "class CoreCourse(Course):\n",
    "    def __init__(self, course_code, course_name, credit_hours, required_for_major):\n",
    "        super().__init__(course_code, course_name, credit_hours)\n",
    "        self.required_for_major = required_for_major\n",
    "\n",
    "    def __str__(self):\n",
    "        return f\"{super().__str__()}, Required for Major: {self.required_for_major}\"\n",
    "\n",
    "# Subclass: ElectiveCourse\n",
    "class ElectiveCourse(Course):\n",
    "    def __init__(self, course_code, course_name, credit_hours, elective_type):\n",
    "        super().__init__(course_code, course_name, credit_hours)\n",
    "        self.elective_type = elective_type\n",
    "\n",
    "    def __str__(self):\n",
    "        return f\"{super().__str__()}, Elective Type: {self.elective_type}\"\n",
    "\n",
    "# Example usage:\n",
    "if __name__ == \"__main__\":\n",
    "    # Create some courses\n",
    "    core_course = CoreCourse(\"CS101\", \"Introduction to Computer Science\", 3, True)\n",
    "    elective_course = ElectiveCourse(\"HIST101\", \"Introduction to History\", 3, \"liberal arts\")\n",
    "    \n",
    "    # Print course details\n",
    "    print(core_course)\n",
    "    print(elective_course)"
   ]
  },
  {
   "cell_type": "code",
   "execution_count": 75,
   "id": "bb2c0144-6087-46cf-9074-c07c06421123",
   "metadata": {},
   "outputs": [
    {
     "name": "stdout",
     "output_type": "stream",
     "text": [
      "Overwriting employee.py\n"
     ]
    }
   ],
   "source": [
    "%%writefile employee.py\n",
    "# employee.py module\n",
    "\n",
    "class Employee:\n",
    "    def __init__(self, name, salary):\n",
    "        self.name = name\n",
    "        self.salary = salary\n",
    "\n",
    "    def get_name(self):\n",
    "        return self.name\n",
    "\n",
    "    def get_salary(self):\n",
    "        return self.salary"
   ]
  },
  {
   "cell_type": "code",
   "execution_count": 81,
   "id": "0f3651ab-e922-4456-a243-c5d4fd492183",
   "metadata": {},
   "outputs": [
    {
     "name": "stdout",
     "output_type": "stream",
     "text": [
      "Employee Name: Anu Akhi\n",
      "Employee Salary: $50,000.00\n"
     ]
    }
   ],
   "source": [
    "#main.py\n",
    "# Import the Employee class from the employee module\n",
    "from employee import Employee\n",
    "\n",
    "# Create an Employee object\n",
    "emp = Employee(\"Anu Akhi\", 50000)\n",
    "\n",
    "# Display the name and salary of the employee\n",
    "print(f\"Employee Name: {emp.get_name()}\")\n",
    "print(f\"Employee Salary: ${emp.get_salary():,.2f}\")"
   ]
  },
  {
   "cell_type": "code",
   "execution_count": null,
   "id": "6deab459-ee28-43dc-9183-0898a1356b08",
   "metadata": {},
   "outputs": [],
   "source": []
  }
 ],
 "metadata": {
  "kernelspec": {
   "display_name": "Python [conda env:base] *",
   "language": "python",
   "name": "conda-base-py"
  },
  "language_info": {
   "codemirror_mode": {
    "name": "ipython",
    "version": 3
   },
   "file_extension": ".py",
   "mimetype": "text/x-python",
   "name": "python",
   "nbconvert_exporter": "python",
   "pygments_lexer": "ipython3",
   "version": "3.12.7"
  }
 },
 "nbformat": 4,
 "nbformat_minor": 5
}
