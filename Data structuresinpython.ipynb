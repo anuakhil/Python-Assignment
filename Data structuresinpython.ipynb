{
 "cells": [
  {
   "cell_type": "code",
   "execution_count": 24,
   "id": "90336c4f-deb6-4725-b162-1f1e8a6b967c",
   "metadata": {},
   "outputs": [
    {
     "name": "stdout",
     "output_type": "stream",
     "text": [
      "[5, 10, 15, 20, 25]\n",
      "[5, 10, 15, 20, 25, 30, 35, 40]\n",
      "5\n",
      "10\n",
      "15\n",
      "20\n",
      "25\n",
      "30\n",
      "35\n",
      "40\n"
     ]
    }
   ],
   "source": [
    "#Exercise List\n",
    "\n",
    "#Question 1\n",
    "random_numbers = [5,10,15,20,25]\n",
    "print(random_numbers)\n",
    "\n",
    "#Question 2\n",
    "random_numbers.append(30)\n",
    "random_numbers.append(35)\n",
    "random_numbers.append(40)\n",
    "print(random_numbers)\n",
    "\n",
    "#Question 3\n",
    "for number in random_numbers:\n",
    "    print(number)"
   ]
  },
  {
   "cell_type": "code",
   "execution_count": 20,
   "id": "6aacfadf-c40b-4b12-b4a3-a52db292539c",
   "metadata": {},
   "outputs": [
    {
     "name": "stdout",
     "output_type": "stream",
     "text": [
      "{1, 2, 3, 4, 5}\n",
      "{1, 2, 3, 4, 5, 6}\n",
      "{1, 2, 4, 5, 6}\n"
     ]
    }
   ],
   "source": [
    "#Exercise SET\n",
    "\n",
    "#Question 1\n",
    "set1={1,2,3,4,5}\n",
    "print(set1)\n",
    "\n",
    "#Question 2\n",
    "set1.add(6)\n",
    "print(set1)\n",
    "\n",
    "#Question 3\n",
    "set1.remove(3)\n",
    "print(set1)"
   ]
  },
  {
   "cell_type": "code",
   "execution_count": 18,
   "id": "be62c110-2f2f-44f5-ae01-798f78867ff8",
   "metadata": {},
   "outputs": [
    {
     "name": "stdout",
     "output_type": "stream",
     "text": [
      "(1, 2, 3, 4)\n",
      "length of t1: 4\n"
     ]
    }
   ],
   "source": [
    "#Exercise Tuple\n",
    "\n",
    "#Question 1\n",
    "t1 = (1,2,3,4)\n",
    "print(t1)\n",
    "\n",
    "#Question2\n",
    "\n",
    "print(\"length of t1:\",len(t1))\n"
   ]
  },
  {
   "cell_type": "code",
   "execution_count": 36,
   "id": "d7ad39a3-6f29-49ac-b59c-1b87a49c723b",
   "metadata": {},
   "outputs": [
    {
     "name": "stdout",
     "output_type": "stream",
     "text": [
      "{'name': 'John', 'age': 25, 'address': 'New York'}\n",
      "{'name': 'John', 'age': 25, 'address': 'New York', 'phone': '1234567890'}\n"
     ]
    }
   ],
   "source": [
    "#Exercise  Dictionary\n",
    "\n",
    "#Question 1\n",
    "person_info = {\n",
    "    'name': 'John','age': 25,'address': 'New York'\n",
    "}\n",
    "\n",
    "# Print the dictionary\n",
    "print(person_info)\n",
    "\n",
    "#Question 2\n",
    "person_info['phone'] = '1234567890'\n",
    "print(person_info)"
   ]
  },
  {
   "cell_type": "code",
   "execution_count": null,
   "id": "23231ef6-2ddb-4a1b-aa8b-9b8b93370dcc",
   "metadata": {},
   "outputs": [],
   "source": []
  },
  {
   "cell_type": "code",
   "execution_count": null,
   "id": "9155c245-9447-4670-9a91-d169b25f8b0e",
   "metadata": {},
   "outputs": [],
   "source": []
  }
 ],
 "metadata": {
  "kernelspec": {
   "display_name": "Python [conda env:base] *",
   "language": "python",
   "name": "conda-base-py"
  },
  "language_info": {
   "codemirror_mode": {
    "name": "ipython",
    "version": 3
   },
   "file_extension": ".py",
   "mimetype": "text/x-python",
   "name": "python",
   "nbconvert_exporter": "python",
   "pygments_lexer": "ipython3",
   "version": "3.12.7"
  }
 },
 "nbformat": 4,
 "nbformat_minor": 5
}
