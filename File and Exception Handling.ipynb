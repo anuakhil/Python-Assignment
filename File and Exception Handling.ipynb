{
 "cells": [
  {
   "cell_type": "code",
   "execution_count": 1,
   "id": "d8f9843b-e156-4bf7-949e-19bcaaa17e11",
   "metadata": {},
   "outputs": [
    {
     "name": "stdin",
     "output_type": "stream",
     "text": [
      "Enter the filename to read:  anu\n"
     ]
    },
    {
     "name": "stdout",
     "output_type": "stream",
     "text": [
      "The file 'anu' is found.\n"
     ]
    }
   ],
   "source": [
    "#Exercise 1\n",
    "\n",
    "def read_file(filename):\n",
    "    try:\n",
    "        with open(filename, 'r') as file:\n",
    "            content = file.read()\n",
    "            print(content)\n",
    "    except FileNotFoundError:\n",
    "        print(f\"The file '{filename}' is found.\")\n",
    "\n",
    "filename = input(\"Enter the filename to read: \")\n",
    "read_file(filename)"
   ]
  },
  {
   "cell_type": "code",
   "execution_count": 2,
   "id": "97135eaf-0333-4f6d-b18f-bf1166d997db",
   "metadata": {},
   "outputs": [
    {
     "name": "stdin",
     "output_type": "stream",
     "text": [
      "Enter the source filename:  anu\n",
      "Enter the destination filename:  c folder\n"
     ]
    },
    {
     "name": "stdout",
     "output_type": "stream",
     "text": [
      "One or both of the files were found: anu, c folder\n"
     ]
    }
   ],
   "source": [
    "#Exercise 2\n",
    "\n",
    "def copy_file(source_file, destination_file):\n",
    "    try:\n",
    "        with open(source_file, 'r') as src:\n",
    "            content = src.read()\n",
    "        with open(destination_file, 'w') as dest:\n",
    "            dest.write(content)\n",
    "        print(f\"Content copied from {source_file} to {destination_file}\")\n",
    "    except FileNotFoundError:\n",
    "        print(f\"One or both of the files were found: {source_file}, {destination_file}\")\n",
    "\n",
    "source_file = input(\"Enter the source filename: \")\n",
    "destination_file = input(\"Enter the destination filename: \")\n",
    "copy_file(source_file, destination_file)"
   ]
  },
  {
   "cell_type": "code",
   "execution_count": 3,
   "id": "3f62866c-7e91-43f5-8a4d-21efd8f8dbe1",
   "metadata": {},
   "outputs": [
    {
     "name": "stdin",
     "output_type": "stream",
     "text": [
      "Enter the source filename:  pythonfunction\n"
     ]
    },
    {
     "name": "stdout",
     "output_type": "stream",
     "text": [
      "The total number of words in the file is: 381\n"
     ]
    }
   ],
   "source": [
    "#Exercise 3\n",
    "\n",
    "# Function to count the number of words in a file\n",
    "def count_words_in_file(file_path):\n",
    "    try:\n",
    "        # Open the file in read mode\n",
    "        with open(file_path, 'r') as file:\n",
    "            # Read the content of the file\n",
    "            content = file.read()\n",
    "            # Split the content into words (by default splits on whitespace)\n",
    "            words = content.split()\n",
    "            \n",
    "            # Return the total number of words\n",
    "            return len(words)\n",
    "    except FileNotFoundError:\n",
    "        print(f\"File '{file_path}' not found.\")\n",
    "        return 0\n",
    "    except Exception as e:\n",
    "        print(f\"An error occurred: {e}\")\n",
    "        return 0\n",
    "        \n",
    "source_file = input(\"Enter the source filename: \")\n",
    "file_path =\"C:\\\\Users\\\\USER\\\\OneDrive\\\\Desktop\\\\Python\\\\Pythonfunction.ipynb\"\n",
    "word_count = count_words_in_file(file_path)\n",
    "print(f\"The total number of words in the file is: {word_count}\")\n"
   ]
  },
  {
   "cell_type": "code",
   "execution_count": 4,
   "id": "c1b6636b-fce1-4f20-a53d-f0ecde97c4b3",
   "metadata": {},
   "outputs": [
    {
     "name": "stdin",
     "output_type": "stream",
     "text": [
      "Enter a number:  4564654\n"
     ]
    },
    {
     "name": "stdout",
     "output_type": "stream",
     "text": [
      "Converted number: 4564654\n"
     ]
    }
   ],
   "source": [
    "#Exercise 4\n",
    "\n",
    "try:\n",
    "    user_input = input(\"Enter a number: \")\n",
    "    number = int(user_input)\n",
    "    print(f\"Converted number: {number}\")\n",
    "except ValueError:\n",
    "    print(\"Invalid input! Please enter a valid integer.\")"
   ]
  },
  {
   "cell_type": "code",
   "execution_count": null,
   "id": "bd80b03b-6d54-4e88-a569-38dcefd4a657",
   "metadata": {},
   "outputs": [],
   "source": [
    "# Exercise 5\n",
    "\n",
    "try:\n",
    "    user_input = input(\"Enter a list of integers (comma-separated): \")\n",
    "    int_list = [int(i) for i in user_input.split(\",\")]\n",
    "    \n",
    "    for num in int_list:\n",
    "        if num < 0:\n",
    "            raise ValueError(\"Negative number detected in the list.\")\n",
    "    \n",
    "    print(\"The list of integers is:\", int_list)\n",
    "except ValueError as e:\n",
    "    print(f\"Error: {e}\")"
   ]
  },
  {
   "cell_type": "code",
   "execution_count": null,
   "id": "ceb82b47-1533-41eb-b772-368c28536222",
   "metadata": {},
   "outputs": [],
   "source": [
    "#Exercise 6\n",
    "\n",
    "try:\n",
    "    user_input = input(\"Enter a list of integers (comma-separated): \")\n",
    "    int_list = [int(i) for i in user_input.split(\",\")]\n",
    "    \n",
    "    if len(int_list) == 0:\n",
    "        raise ValueError(\"The list is empty.\")\n",
    "    \n",
    "    average = sum(int_list) / len(int_list)\n",
    "    print(f\"The average is: {average}\")\n",
    "\n",
    "except ValueError as e:\n",
    "    print(f\"Error: {e}\")\n",
    "\n",
    "finally:\n",
    "    print(\"Program execution completed.\")"
   ]
  },
  {
   "cell_type": "code",
   "execution_count": null,
   "id": "3f2be2e8-00d2-443e-b1ef-ee5f8fe067da",
   "metadata": {},
   "outputs": [],
   "source": [
    "#Exercise 7\n",
    "\n",
    "try:\n",
    "    filename = input(\"Enter the filename: \")\n",
    "    with open(filename, 'w') as file:\n",
    "        file.write(\"Hello, welcome to the file writing program!\")\n",
    "    print(\"Welcome! The string has been written to the file.\")\n",
    "except Exception as e:\n",
    "    print(f\"An error occurred: {e}\")"
   ]
  }
 ],
 "metadata": {
  "kernelspec": {
   "display_name": "Python [conda env:base] *",
   "language": "python",
   "name": "conda-base-py"
  },
  "language_info": {
   "codemirror_mode": {
    "name": "ipython",
    "version": 3
   },
   "file_extension": ".py",
   "mimetype": "text/x-python",
   "name": "python",
   "nbconvert_exporter": "python",
   "pygments_lexer": "ipython3",
   "version": "3.12.7"
  }
 },
 "nbformat": 4,
 "nbformat_minor": 5
}
