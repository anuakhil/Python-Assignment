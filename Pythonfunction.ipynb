{
 "cells": [
  {
   "cell_type": "code",
   "execution_count": 12,
   "id": "487ce283-e882-46fe-b40d-bdb76ab4323d",
   "metadata": {},
   "outputs": [
    {
     "name": "stdout",
     "output_type": "stream",
     "text": [
      "15\n",
      "8\n",
      "30\n"
     ]
    }
   ],
   "source": [
    " #Exercise 1\n",
    "\n",
    "def my_function(a, b=10, c=None):\n",
    "    if c is None:\n",
    "        print(a + b)\n",
    "    else:\n",
    "        print(a * b * c)\n",
    "        \n",
    "my_function(5)          \n",
    "my_function(5, 3)       \n",
    "my_function(5, 3, 2)    "
   ]
  },
  {
   "cell_type": "code",
   "execution_count": 2,
   "id": "0308677c-f013-41e5-9235-e8f7aef1e30b",
   "metadata": {},
   "outputs": [
    {
     "name": "stdout",
     "output_type": "stream",
     "text": [
      "['apple', 'banana', 'elephant']\n"
     ]
    }
   ],
   "source": [
    "# Exercise 2\n",
    "\n",
    "def filter_strings(strings):\n",
    "    return [s for s in strings if len(s) >= 5]\n",
    "\n",
    "strings = [\"apple\", \"cat\", \"banana\", \"dog\", \"elephant\"]\n",
    "result = filter_strings(strings)\n",
    "print(result)\n",
    "    "
   ]
  },
  {
   "cell_type": "code",
   "execution_count": 3,
   "id": "a3687d77-b380-416c-9b63-c2f482ef4940",
   "metadata": {},
   "outputs": [
    {
     "name": "stdout",
     "output_type": "stream",
     "text": [
      "17\n"
     ]
    }
   ],
   "source": [
    "# Exercise 3\n",
    "\n",
    "expression = \"3 * 5 + 2\"\n",
    "\n",
    "# Use eval() to evaluate the expression\n",
    "result = eval(expression)\n",
    "\n",
    "# Print the result\n",
    "print(result)"
   ]
  },
  {
   "cell_type": "code",
   "execution_count": 4,
   "id": "d4388453-27e9-4b78-b820-f458f4768ff6",
   "metadata": {},
   "outputs": [
    {
     "name": "stdout",
     "output_type": "stream",
     "text": [
      "Prime numbers: [2, 3, 5, 7]\n"
     ]
    }
   ],
   "source": [
    "#Exercise 4\n",
    "\n",
    "def is_prime(num):\n",
    "    if num < 2:    \n",
    "        return False\n",
    "    for i in range(2, int(num ** 0.5) + 1):\n",
    "        if num % i == 0:\n",
    "            return False\n",
    "    return True\n",
    "\n",
    "# Given integer list\n",
    "numbers = [1, 2, 3, 4, 5, 6, 7, 8, 9, 10]\n",
    "\n",
    "#filter function\n",
    "prime_numbers = list(filter(is_prime, numbers))\n",
    "print(\"Prime numbers:\", prime_numbers)"
   ]
  },
  {
   "cell_type": "code",
   "execution_count": 5,
   "id": "6ea7fbcf-b36b-44ee-b510-0870606ee8fa",
   "metadata": {},
   "outputs": [
    {
     "name": "stdout",
     "output_type": "stream",
     "text": [
      "Uppercase strings: ['HELLO', 'DSML', 'PYTHON', 'ENTRI']\n"
     ]
    }
   ],
   "source": [
    "#Exercise 5\n",
    "\n",
    "strings = [\"hello\", \"dsml\", \"python\", \"entri\"]\n",
    "\n",
    "uppercase_strings = list(map(str.upper, strings))\n",
    "\n",
    "print(\"Uppercase strings:\", uppercase_strings)"
   ]
  },
  {
   "cell_type": "code",
   "execution_count": null,
   "id": "2a0357e7-9fe6-46e7-8dfd-a35e867fde81",
   "metadata": {},
   "outputs": [],
   "source": []
  }
 ],
 "metadata": {
  "kernelspec": {
   "display_name": "Python [conda env:base] *",
   "language": "python",
   "name": "conda-base-py"
  },
  "language_info": {
   "codemirror_mode": {
    "name": "ipython",
    "version": 3
   },
   "file_extension": ".py",
   "mimetype": "text/x-python",
   "name": "python",
   "nbconvert_exporter": "python",
   "pygments_lexer": "ipython3",
   "version": "3.12.7"
  }
 },
 "nbformat": 4,
 "nbformat_minor": 5
}
